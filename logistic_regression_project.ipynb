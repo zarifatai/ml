{
 "cells": [
  {
   "cell_type": "markdown",
   "id": "22062627-db60-4b2f-875f-ad397f25e596",
   "metadata": {},
   "source": [
    "# Logistic Regression of Wisconsin Breast Cancer Dataset"
   ]
  },
  {
   "cell_type": "code",
   "execution_count": 2,
   "id": "d7077bd3-09f6-4362-99ec-59e3a666ae8f",
   "metadata": {},
   "outputs": [],
   "source": [
    "from sklearn.datasets import load_breast_cancer"
   ]
  },
  {
   "cell_type": "code",
   "execution_count": 3,
   "id": "3b8fa30c-f07e-4726-96b6-25b865b1a8ec",
   "metadata": {},
   "outputs": [],
   "source": [
    "data = load_breast_cancer()"
   ]
  },
  {
   "cell_type": "code",
   "execution_count": 15,
   "id": "c69236be-8d52-4839-acb1-a9526fe6689c",
   "metadata": {},
   "outputs": [
    {
     "name": "stdout",
     "output_type": "stream",
     "text": [
      "['DESCR', 'data', 'data_module', 'feature_names', 'filename', 'frame', 'target', 'target_names']\n"
     ]
    }
   ],
   "source": [
    "print(dir(data))"
   ]
  },
  {
   "cell_type": "markdown",
   "id": "51f4da98-17db-4691-88ec-a6c3b22bf764",
   "metadata": {},
   "source": [
    "## Business Understanding"
   ]
  },
  {
   "cell_type": "code",
   "execution_count": 12,
   "id": "bb212aaf-2fe4-4189-a155-229cd499c931",
   "metadata": {},
   "outputs": [
    {
     "name": "stdout",
     "output_type": "stream",
     "text": [
      ".. _breast_cancer_dataset:\n",
      "\n",
      "Breast cancer wisconsin (diagnostic) dataset\n",
      "--------------------------------------------\n",
      "\n",
      "**Data Set Characteristics:**\n",
      "\n",
      "    :Number of Instances: 569\n",
      "\n",
      "    :Number of Attributes: 30 numeric, predictive attributes and the class\n",
      "\n",
      "    :Attribute Information:\n",
      "        - radius (mean of distances from center to points on the perimeter)\n",
      "        - texture (standard deviation of gray-scale values)\n",
      "        - perimeter\n",
      "        - area\n",
      "        - smoothness (local variation in radius lengths)\n",
      "        - compactness (perimeter^2 / area - 1.0)\n",
      "        - concavity (severity of concave portions of the contour)\n",
      "        - concave points (number of concave portions of the contour)\n",
      "        - symmetry\n",
      "        - fractal dimension (\"coastline approximation\" - 1)\n",
      "\n",
      "        The mean, standard error, and \"worst\" or largest (mean of the three\n",
      "        worst/largest values) of these features were computed for each image,\n",
      "        resulting in 30 features.  For instance, field 0 is Mean Radius, field\n",
      "        10 is Radius SE, field 20 is Worst Radius.\n",
      "\n",
      "        - class:\n",
      "                - WDBC-Malignant\n",
      "                - WDBC-Benign\n",
      "\n",
      "    :Summary Statistics:\n",
      "\n",
      "    ===================================== ====== ======\n",
      "                                           Min    Max\n",
      "    ===================================== ====== ======\n",
      "    radius (mean):                        6.981  28.11\n",
      "    texture (mean):                       9.71   39.28\n",
      "    perimeter (mean):                     43.79  188.5\n",
      "    area (mean):                          143.5  2501.0\n",
      "    smoothness (mean):                    0.053  0.163\n",
      "    compactness (mean):                   0.019  0.345\n",
      "    concavity (mean):                     0.0    0.427\n",
      "    concave points (mean):                0.0    0.201\n",
      "    symmetry (mean):                      0.106  0.304\n",
      "    fractal dimension (mean):             0.05   0.097\n",
      "    radius (standard error):              0.112  2.873\n",
      "    texture (standard error):             0.36   4.885\n",
      "    perimeter (standard error):           0.757  21.98\n",
      "    area (standard error):                6.802  542.2\n",
      "    smoothness (standard error):          0.002  0.031\n",
      "    compactness (standard error):         0.002  0.135\n",
      "    concavity (standard error):           0.0    0.396\n",
      "    concave points (standard error):      0.0    0.053\n",
      "    symmetry (standard error):            0.008  0.079\n",
      "    fractal dimension (standard error):   0.001  0.03\n",
      "    radius (worst):                       7.93   36.04\n",
      "    texture (worst):                      12.02  49.54\n",
      "    perimeter (worst):                    50.41  251.2\n",
      "    area (worst):                         185.2  4254.0\n",
      "    smoothness (worst):                   0.071  0.223\n",
      "    compactness (worst):                  0.027  1.058\n",
      "    concavity (worst):                    0.0    1.252\n",
      "    concave points (worst):               0.0    0.291\n",
      "    symmetry (worst):                     0.156  0.664\n",
      "    fractal dimension (worst):            0.055  0.208\n",
      "    ===================================== ====== ======\n",
      "\n",
      "    :Missing Attribute Values: None\n",
      "\n",
      "    :Class Distribution: 212 - Malignant, 357 - Benign\n",
      "\n",
      "    :Creator:  Dr. William H. Wolberg, W. Nick Street, Olvi L. Mangasarian\n",
      "\n",
      "    :Donor: Nick Street\n",
      "\n",
      "    :Date: November, 1995\n",
      "\n",
      "This is a copy of UCI ML Breast Cancer Wisconsin (Diagnostic) datasets.\n",
      "https://goo.gl/U2Uwz2\n",
      "\n",
      "Features are computed from a digitized image of a fine needle\n",
      "aspirate (FNA) of a breast mass.  They describe\n",
      "characteristics of the cell nuclei present in the image.\n",
      "\n",
      "Separating plane described above was obtained using\n",
      "Multisurface Method-Tree (MSM-T) [K. P. Bennett, \"Decision Tree\n",
      "Construction Via Linear Programming.\" Proceedings of the 4th\n",
      "Midwest Artificial Intelligence and Cognitive Science Society,\n",
      "pp. 97-101, 1992], a classification method which uses linear\n",
      "programming to construct a decision tree.  Relevant features\n",
      "were selected using an exhaustive search in the space of 1-4\n",
      "features and 1-3 separating planes.\n",
      "\n",
      "The actual linear program used to obtain the separating plane\n",
      "in the 3-dimensional space is that described in:\n",
      "[K. P. Bennett and O. L. Mangasarian: \"Robust Linear\n",
      "Programming Discrimination of Two Linearly Inseparable Sets\",\n",
      "Optimization Methods and Software 1, 1992, 23-34].\n",
      "\n",
      "This database is also available through the UW CS ftp server:\n",
      "\n",
      "ftp ftp.cs.wisc.edu\n",
      "cd math-prog/cpo-dataset/machine-learn/WDBC/\n",
      "\n",
      ".. topic:: References\n",
      "\n",
      "   - W.N. Street, W.H. Wolberg and O.L. Mangasarian. Nuclear feature extraction \n",
      "     for breast tumor diagnosis. IS&T/SPIE 1993 International Symposium on \n",
      "     Electronic Imaging: Science and Technology, volume 1905, pages 861-870,\n",
      "     San Jose, CA, 1993.\n",
      "   - O.L. Mangasarian, W.N. Street and W.H. Wolberg. Breast cancer diagnosis and \n",
      "     prognosis via linear programming. Operations Research, 43(4), pages 570-577, \n",
      "     July-August 1995.\n",
      "   - W.H. Wolberg, W.N. Street, and O.L. Mangasarian. Machine learning techniques\n",
      "     to diagnose breast cancer from fine-needle aspirates. Cancer Letters 77 (1994) \n",
      "     163-171.\n"
     ]
    }
   ],
   "source": [
    "print(data.DESCR)"
   ]
  },
  {
   "cell_type": "markdown",
   "id": "0c711751-5917-4cc7-af3f-58c5fd62affb",
   "metadata": {},
   "source": [
    "Every sample contains features of the nuclei (plural form on nucleus) of a person. Malignant cases are considered dangerous or potential cancer. Benign cases are considered harmless."
   ]
  },
  {
   "cell_type": "markdown",
   "id": "f1a49d72-9326-4399-8b00-0d6407841824",
   "metadata": {},
   "source": [
    "## Data Understanding"
   ]
  },
  {
   "cell_type": "markdown",
   "id": "13ae4ffe-4cae-47b3-b94b-a3fd64897830",
   "metadata": {},
   "source": [
    "### Description of the data"
   ]
  },
  {
   "cell_type": "markdown",
   "id": "2e32b88b-9fa8-4bd8-bd8c-32782235fcc5",
   "metadata": {},
   "source": [
    "There are in total 569 samples, each containing 30 numeric features. 212 samples are labeled as malignant (0) and the remaining 357 samples are considered benign (1).\n",
    "\n",
    "The first 10 features contain the mean values of the characteristics of the nuclei. The next 10 features contain the standard error values of the characteristics. Lastly, the final 10 features contain the worst cases."
   ]
  },
  {
   "cell_type": "code",
   "execution_count": 23,
   "id": "9470811e-5c0b-45aa-b415-743b6629486f",
   "metadata": {},
   "outputs": [],
   "source": [
    "import numpy as np"
   ]
  },
  {
   "cell_type": "markdown",
   "id": "2265fffc-c535-4848-b148-e358728bccc2",
   "metadata": {},
   "source": [
    "With the check below, we can do a quick check if there are any missing values in the dataset. If there is a `NaN` value in the dataset, the sum of the data will also be `NaN`. So, if the output of the cell below is `True`, there is at least one missing value in the dataset."
   ]
  },
  {
   "cell_type": "code",
   "execution_count": 37,
   "id": "6b4fda75-715c-4e36-9a2a-88a954ce3af1",
   "metadata": {},
   "outputs": [
    {
     "data": {
      "text/plain": [
       "False"
      ]
     },
     "execution_count": 37,
     "metadata": {},
     "output_type": "execute_result"
    }
   ],
   "source": [
    "np.isnan(np.sum(data.data))"
   ]
  },
  {
   "cell_type": "markdown",
   "id": "abe38288-a121-4591-aa9c-54af67a78519",
   "metadata": {},
   "source": [
    "The output is `False`. Therefore, there are no `NaN` values in the dataset."
   ]
  },
  {
   "cell_type": "markdown",
   "id": "e67a5286-7155-4a80-b0b1-8c2ac3260421",
   "metadata": {},
   "source": [
    "### Feature characteristics\n",
    "\n",
    "For every feature, the mean and standard deviation is calculated below."
   ]
  },
  {
   "cell_type": "code",
   "execution_count": 87,
   "id": "32316aab-b951-442d-9027-13ca241a707e",
   "metadata": {},
   "outputs": [
    {
     "name": "stdout",
     "output_type": "stream",
     "text": [
      "mean radius\n",
      "Mean: 0.34\n",
      "Standard deviation: 0.17\n",
      "\n",
      "mean texture\n",
      "Mean: 0.32\n",
      "Standard deviation: 0.15\n",
      "\n",
      "mean perimeter\n",
      "Mean: 0.33\n",
      "Standard deviation: 0.17\n",
      "\n",
      "mean area\n",
      "Mean: 0.22\n",
      "Standard deviation: 0.15\n",
      "\n",
      "mean smoothness\n",
      "Mean: 0.39\n",
      "Standard deviation: 0.13\n",
      "\n",
      "mean compactness\n",
      "Mean: 0.26\n",
      "Standard deviation: 0.16\n",
      "\n",
      "mean concavity\n",
      "Mean: 0.21\n",
      "Standard deviation: 0.19\n",
      "\n",
      "mean concave points\n",
      "Mean: 0.24\n",
      "Standard deviation: 0.19\n",
      "\n",
      "mean symmetry\n",
      "Mean: 0.38\n",
      "Standard deviation: 0.14\n",
      "\n",
      "mean fractal dimension\n",
      "Mean: 0.27\n",
      "Standard deviation: 0.15\n",
      "\n",
      "radius error\n",
      "Mean: 0.11\n",
      "Standard deviation: 0.1\n",
      "\n",
      "texture error\n",
      "Mean: 0.19\n",
      "Standard deviation: 0.12\n",
      "\n",
      "perimeter error\n",
      "Mean: 0.1\n",
      "Standard deviation: 0.1\n",
      "\n",
      "area error\n",
      "Mean: 0.06\n",
      "Standard deviation: 0.08\n",
      "\n",
      "smoothness error\n",
      "Mean: 0.18\n",
      "Standard deviation: 0.1\n",
      "\n",
      "compactness error\n",
      "Mean: 0.17\n",
      "Standard deviation: 0.13\n",
      "\n",
      "concavity error\n",
      "Mean: 0.08\n",
      "Standard deviation: 0.08\n",
      "\n",
      "concave points error\n",
      "Mean: 0.22\n",
      "Standard deviation: 0.12\n",
      "\n",
      "symmetry error\n",
      "Mean: 0.18\n",
      "Standard deviation: 0.12\n",
      "\n",
      "fractal dimension error\n",
      "Mean: 0.1\n",
      "Standard deviation: 0.09\n",
      "\n",
      "worst radius\n",
      "Mean: 0.3\n",
      "Standard deviation: 0.17\n",
      "\n",
      "worst texture\n",
      "Mean: 0.36\n",
      "Standard deviation: 0.16\n",
      "\n",
      "worst perimeter\n",
      "Mean: 0.28\n",
      "Standard deviation: 0.17\n",
      "\n",
      "worst area\n",
      "Mean: 0.17\n",
      "Standard deviation: 0.14\n",
      "\n",
      "worst smoothness\n",
      "Mean: 0.4\n",
      "Standard deviation: 0.15\n",
      "\n",
      "worst compactness\n",
      "Mean: 0.22\n",
      "Standard deviation: 0.15\n",
      "\n",
      "worst concavity\n",
      "Mean: 0.22\n",
      "Standard deviation: 0.17\n",
      "\n",
      "worst concave points\n",
      "Mean: 0.39\n",
      "Standard deviation: 0.23\n",
      "\n",
      "worst symmetry\n",
      "Mean: 0.26\n",
      "Standard deviation: 0.12\n",
      "\n",
      "worst fractal dimension\n",
      "Mean: 0.19\n",
      "Standard deviation: 0.12\n",
      "\n"
     ]
    }
   ],
   "source": [
    "X = data.data\n",
    "\n",
    "for i in range(X.shape[1]):\n",
    "    mean = round(np.mean(X[:, i]), 2)\n",
    "    std = round(np.std(X[:, i]), 2)\n",
    "    print(data.feature_names[i])\n",
    "    print(\"Mean:\", mean)\n",
    "    print(\"Standard deviation:\", std)\n",
    "    print()"
   ]
  },
  {
   "cell_type": "markdown",
   "id": "b48d9522-97c1-44c9-a978-9ebbe1cb191e",
   "metadata": {},
   "source": [
    "The values vary from very small values (1e-2) to large values (1e2). Normalizing the values between 0 and 1 is therefore necessary."
   ]
  },
  {
   "cell_type": "markdown",
   "id": "bd34a069-a65f-42b5-a917-0a398fe15b31",
   "metadata": {},
   "source": [
    "## Data Preparation\n",
    "\n",
    "The data can be considered already prepared. The only transformation left is normalization. Before doing so, the data will be shuffled and the test set will be isolated from the training and evaluation set."
   ]
  },
  {
   "cell_type": "code",
   "execution_count": 104,
   "id": "641db928-1870-4e51-9067-5a1cfd0404d9",
   "metadata": {},
   "outputs": [],
   "source": [
    "import pandas as pd"
   ]
  },
  {
   "cell_type": "code",
   "execution_count": 105,
   "id": "b69c90c8-5aa9-419e-9093-fc788a18528a",
   "metadata": {},
   "outputs": [],
   "source": [
    "df = pd.DataFrame(data=X, columns=data.feature_names)"
   ]
  },
  {
   "cell_type": "code",
   "execution_count": 112,
   "id": "301bca11-640c-4880-b7a9-830273352f3c",
   "metadata": {},
   "outputs": [],
   "source": [
    "df[\"target\"] = data.target"
   ]
  },
  {
   "cell_type": "code",
   "execution_count": 114,
   "id": "ddb77d30-6b9c-4536-a307-89b6ac773d0f",
   "metadata": {},
   "outputs": [],
   "source": [
    "n = len(df)\n",
    "idx = np.arange(n)\n",
    "np.random.seed(42)\n",
    "np.random.shuffle(idx)"
   ]
  },
  {
   "cell_type": "code",
   "execution_count": 115,
   "id": "9b62f477-965f-48b0-b75d-bfd7def88024",
   "metadata": {},
   "outputs": [],
   "source": [
    "split_trainval_test = 0.2\n",
    "n_test = int(n * split_trainval_test)\n",
    "df_test = df.iloc[:n_test]\n",
    "df_trainval = df.iloc[n_test:]"
   ]
  },
  {
   "cell_type": "markdown",
   "id": "6837c887-1140-45bb-a921-843831ff1824",
   "metadata": {},
   "source": [
    "The values are normalized to values between 0 and 1 per feature below."
   ]
  },
  {
   "cell_type": "code",
   "execution_count": 65,
   "id": "24be393c-9bfb-4493-bdfe-8707f55d40f5",
   "metadata": {},
   "outputs": [],
   "source": [
    "# for i in range(X_trainval.shape[1]):\n",
    "#     vals = X_trainval[:, i]\n",
    "#     X_trainval[:, i] = (vals - np.min(vals))/np.ptp(vals)"
   ]
  },
  {
   "cell_type": "code",
   "execution_count": 101,
   "id": "e0e4bfe1-8b37-4ace-84ed-b2b360e8ef79",
   "metadata": {},
   "outputs": [],
   "source": [
    "# X_val = X_trainval[:n_test]\n",
    "# X_train = X_trainval[n_test:]"
   ]
  }
 ],
 "metadata": {
  "kernelspec": {
   "display_name": "Python 3 (ipykernel)",
   "language": "python",
   "name": "python3"
  },
  "language_info": {
   "codemirror_mode": {
    "name": "ipython",
    "version": 3
   },
   "file_extension": ".py",
   "mimetype": "text/x-python",
   "name": "python",
   "nbconvert_exporter": "python",
   "pygments_lexer": "ipython3",
   "version": "3.9.13"
  }
 },
 "nbformat": 4,
 "nbformat_minor": 5
}
