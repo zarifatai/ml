{
 "cells": [
  {
   "cell_type": "markdown",
   "id": "22062627-db60-4b2f-875f-ad397f25e596",
   "metadata": {},
   "source": [
    "# Logistic Regression with Wisconsin Breast Cancer Dataset"
   ]
  },
  {
   "cell_type": "code",
   "execution_count": 1,
   "id": "d7077bd3-09f6-4362-99ec-59e3a666ae8f",
   "metadata": {},
   "outputs": [],
   "source": [
    "from sklearn.datasets import load_breast_cancer"
   ]
  },
  {
   "cell_type": "code",
   "execution_count": 2,
   "id": "3b8fa30c-f07e-4726-96b6-25b865b1a8ec",
   "metadata": {},
   "outputs": [
    {
     "name": "stdout",
     "output_type": "stream",
     "text": [
      "['DESCR', 'data', 'data_module', 'feature_names', 'filename', 'frame', 'target', 'target_names']\n"
     ]
    }
   ],
   "source": [
    "data = load_breast_cancer()\n",
    "print(dir(data))"
   ]
  },
  {
   "cell_type": "markdown",
   "id": "51f4da98-17db-4691-88ec-a6c3b22bf764",
   "metadata": {},
   "source": [
    "## Business Understanding"
   ]
  },
  {
   "cell_type": "code",
   "execution_count": 3,
   "id": "bb212aaf-2fe4-4189-a155-229cd499c931",
   "metadata": {},
   "outputs": [
    {
     "name": "stdout",
     "output_type": "stream",
     "text": [
      ".. _breast_cancer_dataset:\n",
      "\n",
      "Breast cancer wisconsin (diagnostic) dataset\n",
      "--------------------------------------------\n",
      "\n",
      "**Data Set Characteristics:**\n",
      "\n",
      "    :Number of Instances: 569\n",
      "\n",
      "    :Number of Attributes: 30 numeric, predictive attributes and the class\n",
      "\n",
      "    :Attribute Information:\n",
      "        - radius (mean of distances from center to points on the perimeter)\n",
      "        - texture (standard deviation of gray-scale values)\n",
      "        - perimeter\n",
      "        - area\n",
      "        - smoothness (local variation in radius lengths)\n",
      "        - compactness (perimeter^2 / area - 1.0)\n",
      "        - concavity (severity of concave portions of the contour)\n",
      "        - concave points (number of concave portions of the contour)\n",
      "        - symmetry\n",
      "        - fractal dimension (\"coastline approximation\" - 1)\n",
      "\n",
      "        The mean, standard error, and \"worst\" or largest (mean of the three\n",
      "        worst/largest values) of these features were computed for each image,\n",
      "        resulting in 30 features.  For instance, field 0 is Mean Radius, field\n",
      "        10 is Radius SE, field 20 is Worst Radius.\n",
      "\n",
      "        - class:\n",
      "                - WDBC-Malignant\n",
      "                - WDBC-Benign\n",
      "\n",
      "    :Summary Statistics:\n",
      "\n",
      "    ===================================== ====== ======\n",
      "                                           Min    Max\n",
      "    ===================================== ====== ======\n",
      "    radius (mean):                        6.981  28.11\n",
      "    texture (mean):                       9.71   39.28\n",
      "    perimeter (mean):                     43.79  188.5\n",
      "    area (mean):                          143.5  2501.0\n",
      "    smoothness (mean):                    0.053  0.163\n",
      "    compactness (mean):                   0.019  0.345\n",
      "    concavity (mean):                     0.0    0.427\n",
      "    concave points (mean):                0.0    0.201\n",
      "    symmetry (mean):                      0.106  0.304\n",
      "    fractal dimension (mean):             0.05   0.097\n",
      "    radius (standard error):              0.112  2.873\n",
      "    texture (standard error):             0.36   4.885\n",
      "    perimeter (standard error):           0.757  21.98\n",
      "    area (standard error):                6.802  542.2\n",
      "    smoothness (standard error):          0.002  0.031\n",
      "    compactness (standard error):         0.002  0.135\n",
      "    concavity (standard error):           0.0    0.396\n",
      "    concave points (standard error):      0.0    0.053\n",
      "    symmetry (standard error):            0.008  0.079\n",
      "    fractal dimension (standard error):   0.001  0.03\n",
      "    radius (worst):                       7.93   36.04\n",
      "    texture (worst):                      12.02  49.54\n",
      "    perimeter (worst):                    50.41  251.2\n",
      "    area (worst):                         185.2  4254.0\n",
      "    smoothness (worst):                   0.071  0.223\n",
      "    compactness (worst):                  0.027  1.058\n",
      "    concavity (worst):                    0.0    1.252\n",
      "    concave points (worst):               0.0    0.291\n",
      "    symmetry (worst):                     0.156  0.664\n",
      "    fractal dimension (worst):            0.055  0.208\n",
      "    ===================================== ====== ======\n",
      "\n",
      "    :Missing Attribute Values: None\n",
      "\n",
      "    :Class Distribution: 212 - Malignant, 357 - Benign\n",
      "\n",
      "    :Creator:  Dr. William H. Wolberg, W. Nick Street, Olvi L. Mangasarian\n",
      "\n",
      "    :Donor: Nick Street\n",
      "\n",
      "    :Date: November, 1995\n",
      "\n",
      "This is a copy of UCI ML Breast Cancer Wisconsin (Diagnostic) datasets.\n",
      "https://goo.gl/U2Uwz2\n",
      "\n",
      "Features are computed from a digitized image of a fine needle\n",
      "aspirate (FNA) of a breast mass.  They describe\n",
      "characteristics of the cell nuclei present in the image.\n",
      "\n",
      "Separating plane described above was obtained using\n",
      "Multisurface Method-Tree (MSM-T) [K. P. Bennett, \"Decision Tree\n",
      "Construction Via Linear Programming.\" Proceedings of the 4th\n",
      "Midwest Artificial Intelligence and Cognitive Science Society,\n",
      "pp. 97-101, 1992], a classification method which uses linear\n",
      "programming to construct a decision tree.  Relevant features\n",
      "were selected using an exhaustive search in the space of 1-4\n",
      "features and 1-3 separating planes.\n",
      "\n",
      "The actual linear program used to obtain the separating plane\n",
      "in the 3-dimensional space is that described in:\n",
      "[K. P. Bennett and O. L. Mangasarian: \"Robust Linear\n",
      "Programming Discrimination of Two Linearly Inseparable Sets\",\n",
      "Optimization Methods and Software 1, 1992, 23-34].\n",
      "\n",
      "This database is also available through the UW CS ftp server:\n",
      "\n",
      "ftp ftp.cs.wisc.edu\n",
      "cd math-prog/cpo-dataset/machine-learn/WDBC/\n",
      "\n",
      ".. topic:: References\n",
      "\n",
      "   - W.N. Street, W.H. Wolberg and O.L. Mangasarian. Nuclear feature extraction \n",
      "     for breast tumor diagnosis. IS&T/SPIE 1993 International Symposium on \n",
      "     Electronic Imaging: Science and Technology, volume 1905, pages 861-870,\n",
      "     San Jose, CA, 1993.\n",
      "   - O.L. Mangasarian, W.N. Street and W.H. Wolberg. Breast cancer diagnosis and \n",
      "     prognosis via linear programming. Operations Research, 43(4), pages 570-577, \n",
      "     July-August 1995.\n",
      "   - W.H. Wolberg, W.N. Street, and O.L. Mangasarian. Machine learning techniques\n",
      "     to diagnose breast cancer from fine-needle aspirates. Cancer Letters 77 (1994) \n",
      "     163-171.\n"
     ]
    }
   ],
   "source": [
    "print(data.DESCR)"
   ]
  },
  {
   "cell_type": "markdown",
   "id": "0c711751-5917-4cc7-af3f-58c5fd62affb",
   "metadata": {},
   "source": [
    "Every sample contains features of the nuclei (plural form on nucleus) of a person. Malignant cases are considered dangerous or potential cancer. Benign cases are considered harmless."
   ]
  },
  {
   "cell_type": "markdown",
   "id": "f1a49d72-9326-4399-8b00-0d6407841824",
   "metadata": {},
   "source": [
    "## Data Understanding"
   ]
  },
  {
   "cell_type": "markdown",
   "id": "13ae4ffe-4cae-47b3-b94b-a3fd64897830",
   "metadata": {},
   "source": [
    "### Description of the data"
   ]
  },
  {
   "cell_type": "markdown",
   "id": "2e32b88b-9fa8-4bd8-bd8c-32782235fcc5",
   "metadata": {},
   "source": [
    "There are in total 569 samples, each containing 30 numeric features. 212 samples are labeled as malignant (0) and the remaining 357 samples are considered benign (1).\n",
    "\n",
    "The first 10 features contain the mean values of the characteristics of the nuclei. The next 10 features contain the standard error values of the characteristics. Lastly, the final 10 features contain the worst cases."
   ]
  },
  {
   "cell_type": "markdown",
   "id": "2265fffc-c535-4848-b148-e358728bccc2",
   "metadata": {},
   "source": [
    "With the check below, we can do a quick check if there are any missing values in the dataset. If there is a `NaN` value in the dataset, the sum of the data will also be `NaN`. So, if the output of the cell below is `True`, there is at least one missing value in the dataset."
   ]
  },
  {
   "cell_type": "code",
   "execution_count": 4,
   "id": "6b4fda75-715c-4e36-9a2a-88a954ce3af1",
   "metadata": {},
   "outputs": [
    {
     "data": {
      "text/plain": [
       "False"
      ]
     },
     "execution_count": 4,
     "metadata": {},
     "output_type": "execute_result"
    }
   ],
   "source": [
    "import numpy as np\n",
    "\n",
    "np.isnan(np.sum(data.data))"
   ]
  },
  {
   "cell_type": "markdown",
   "id": "abe38288-a121-4591-aa9c-54af67a78519",
   "metadata": {},
   "source": [
    "The output is `False`. Therefore, there are no `NaN` values in the dataset."
   ]
  },
  {
   "cell_type": "markdown",
   "id": "e67a5286-7155-4a80-b0b1-8c2ac3260421",
   "metadata": {},
   "source": [
    "### Feature characteristics\n",
    "\n",
    "For every feature, the mean and standard deviation is calculated below."
   ]
  },
  {
   "cell_type": "code",
   "execution_count": 5,
   "id": "32316aab-b951-442d-9027-13ca241a707e",
   "metadata": {},
   "outputs": [
    {
     "name": "stdout",
     "output_type": "stream",
     "text": [
      "mean radius\n",
      "Mean: 14.13\n",
      "Standard deviation: 3.52\n",
      "\n",
      "mean texture\n",
      "Mean: 19.29\n",
      "Standard deviation: 4.3\n",
      "\n",
      "mean perimeter\n",
      "Mean: 91.97\n",
      "Standard deviation: 24.28\n",
      "\n",
      "mean area\n",
      "Mean: 654.89\n",
      "Standard deviation: 351.6\n",
      "\n",
      "mean smoothness\n",
      "Mean: 0.1\n",
      "Standard deviation: 0.01\n",
      "\n",
      "mean compactness\n",
      "Mean: 0.1\n",
      "Standard deviation: 0.05\n",
      "\n",
      "mean concavity\n",
      "Mean: 0.09\n",
      "Standard deviation: 0.08\n",
      "\n",
      "mean concave points\n",
      "Mean: 0.05\n",
      "Standard deviation: 0.04\n",
      "\n",
      "mean symmetry\n",
      "Mean: 0.18\n",
      "Standard deviation: 0.03\n",
      "\n",
      "mean fractal dimension\n",
      "Mean: 0.06\n",
      "Standard deviation: 0.01\n",
      "\n",
      "radius error\n",
      "Mean: 0.41\n",
      "Standard deviation: 0.28\n",
      "\n",
      "texture error\n",
      "Mean: 1.22\n",
      "Standard deviation: 0.55\n",
      "\n",
      "perimeter error\n",
      "Mean: 2.87\n",
      "Standard deviation: 2.02\n",
      "\n",
      "area error\n",
      "Mean: 40.34\n",
      "Standard deviation: 45.45\n",
      "\n",
      "smoothness error\n",
      "Mean: 0.01\n",
      "Standard deviation: 0.0\n",
      "\n",
      "compactness error\n",
      "Mean: 0.03\n",
      "Standard deviation: 0.02\n",
      "\n",
      "concavity error\n",
      "Mean: 0.03\n",
      "Standard deviation: 0.03\n",
      "\n",
      "concave points error\n",
      "Mean: 0.01\n",
      "Standard deviation: 0.01\n",
      "\n",
      "symmetry error\n",
      "Mean: 0.02\n",
      "Standard deviation: 0.01\n",
      "\n",
      "fractal dimension error\n",
      "Mean: 0.0\n",
      "Standard deviation: 0.0\n",
      "\n",
      "worst radius\n",
      "Mean: 16.27\n",
      "Standard deviation: 4.83\n",
      "\n",
      "worst texture\n",
      "Mean: 25.68\n",
      "Standard deviation: 6.14\n",
      "\n",
      "worst perimeter\n",
      "Mean: 107.26\n",
      "Standard deviation: 33.57\n",
      "\n",
      "worst area\n",
      "Mean: 880.58\n",
      "Standard deviation: 568.86\n",
      "\n",
      "worst smoothness\n",
      "Mean: 0.13\n",
      "Standard deviation: 0.02\n",
      "\n",
      "worst compactness\n",
      "Mean: 0.25\n",
      "Standard deviation: 0.16\n",
      "\n",
      "worst concavity\n",
      "Mean: 0.27\n",
      "Standard deviation: 0.21\n",
      "\n",
      "worst concave points\n",
      "Mean: 0.11\n",
      "Standard deviation: 0.07\n",
      "\n",
      "worst symmetry\n",
      "Mean: 0.29\n",
      "Standard deviation: 0.06\n",
      "\n",
      "worst fractal dimension\n",
      "Mean: 0.08\n",
      "Standard deviation: 0.02\n",
      "\n"
     ]
    }
   ],
   "source": [
    "X = data.data\n",
    "y = data.target\n",
    "feature_names = data.feature_names\n",
    "\n",
    "for i in range(X.shape[1]):\n",
    "    mean = round(np.mean(X[:, i]), 2)\n",
    "    std = round(np.std(X[:, i]), 2)\n",
    "    print(data.feature_names[i])\n",
    "    print(\"Mean:\", mean)\n",
    "    print(\"Standard deviation:\", std)\n",
    "    print()"
   ]
  },
  {
   "cell_type": "markdown",
   "id": "b48d9522-97c1-44c9-a978-9ebbe1cb191e",
   "metadata": {},
   "source": [
    "The values vary from very small values (1e-2) to large values (1e2). Normalizing the values between 0 and 1 is therefore necessary.\n",
    "\n",
    "### Feature correlations\n",
    "It is possible that there are features that are highly correlated with other features. If a feature is highly correlated with another feature, it will not contribute anything extra to the model. In the cell below, the Person correlation coefficient between a feature and all other features that are highly correlated with it, are displayed."
   ]
  },
  {
   "cell_type": "code",
   "execution_count": 6,
   "id": "220ec384-ee31-472a-83a1-fc88f78971dc",
   "metadata": {},
   "outputs": [
    {
     "name": "stdout",
     "output_type": "stream",
     "text": [
      "*******************MEAN RADIUS********************\n",
      "is highly correlated with the following features\n",
      "--------------------------------------------------\n",
      "mean perimeter (0.998)\n",
      "mean area (0.987)\n",
      "mean concave points (0.823)\n",
      "worst radius (0.97)\n",
      "worst perimeter (0.965)\n",
      "worst area (0.941)\n",
      "\n",
      "*******************MEAN TEXTURE*******************\n",
      "is highly correlated with the following features\n",
      "--------------------------------------------------\n",
      "worst texture (0.912)\n",
      "\n",
      "******************MEAN PERIMETER******************\n",
      "is highly correlated with the following features\n",
      "--------------------------------------------------\n",
      "mean radius (0.998)\n",
      "mean area (0.987)\n",
      "mean concave points (0.851)\n",
      "worst radius (0.969)\n",
      "worst perimeter (0.97)\n",
      "worst area (0.942)\n",
      "\n",
      "********************MEAN AREA*********************\n",
      "is highly correlated with the following features\n",
      "--------------------------------------------------\n",
      "mean radius (0.987)\n",
      "mean perimeter (0.987)\n",
      "mean concave points (0.823)\n",
      "area error (0.8)\n",
      "worst radius (0.963)\n",
      "worst perimeter (0.959)\n",
      "worst area (0.959)\n",
      "\n",
      "*****************MEAN SMOOTHNESS******************\n",
      "is highly correlated with the following features\n",
      "--------------------------------------------------\n",
      "worst smoothness (0.805)\n",
      "\n",
      "*****************MEAN COMPACTNESS*****************\n",
      "is highly correlated with the following features\n",
      "--------------------------------------------------\n",
      "mean concavity (0.883)\n",
      "mean concave points (0.831)\n",
      "worst compactness (0.866)\n",
      "worst concavity (0.816)\n",
      "worst concave points (0.816)\n",
      "\n",
      "******************MEAN CONCAVITY******************\n",
      "is highly correlated with the following features\n",
      "--------------------------------------------------\n",
      "mean compactness (0.883)\n",
      "mean concave points (0.921)\n",
      "worst concavity (0.884)\n",
      "worst concave points (0.861)\n",
      "\n",
      "***************MEAN CONCAVE POINTS****************\n",
      "is highly correlated with the following features\n",
      "--------------------------------------------------\n",
      "mean radius (0.823)\n",
      "mean perimeter (0.851)\n",
      "mean area (0.823)\n",
      "mean compactness (0.831)\n",
      "mean concavity (0.921)\n",
      "worst radius (0.83)\n",
      "worst perimeter (0.856)\n",
      "worst area (0.81)\n",
      "worst concave points (0.91)\n",
      "\n",
      "******************MEAN SYMMETRY*******************\n",
      "is highly correlated with the following features\n",
      "--------------------------------------------------\n",
      "\n",
      "**************MEAN FRACTAL DIMENSION**************\n",
      "is highly correlated with the following features\n",
      "--------------------------------------------------\n",
      "\n",
      "*******************RADIUS ERROR*******************\n",
      "is highly correlated with the following features\n",
      "--------------------------------------------------\n",
      "perimeter error (0.973)\n",
      "area error (0.952)\n",
      "\n",
      "******************TEXTURE ERROR*******************\n",
      "is highly correlated with the following features\n",
      "--------------------------------------------------\n",
      "\n",
      "*****************PERIMETER ERROR******************\n",
      "is highly correlated with the following features\n",
      "--------------------------------------------------\n",
      "radius error (0.973)\n",
      "area error (0.938)\n",
      "\n",
      "********************AREA ERROR********************\n",
      "is highly correlated with the following features\n",
      "--------------------------------------------------\n",
      "mean area (0.8)\n",
      "radius error (0.952)\n",
      "perimeter error (0.938)\n",
      "worst area (0.811)\n",
      "\n",
      "*****************SMOOTHNESS ERROR*****************\n",
      "is highly correlated with the following features\n",
      "--------------------------------------------------\n",
      "\n",
      "****************COMPACTNESS ERROR*****************\n",
      "is highly correlated with the following features\n",
      "--------------------------------------------------\n",
      "concavity error (0.801)\n",
      "fractal dimension error (0.803)\n",
      "\n",
      "*****************CONCAVITY ERROR******************\n",
      "is highly correlated with the following features\n",
      "--------------------------------------------------\n",
      "compactness error (0.801)\n",
      "\n",
      "***************CONCAVE POINTS ERROR***************\n",
      "is highly correlated with the following features\n",
      "--------------------------------------------------\n",
      "\n",
      "******************SYMMETRY ERROR******************\n",
      "is highly correlated with the following features\n",
      "--------------------------------------------------\n",
      "\n",
      "*************FRACTAL DIMENSION ERROR**************\n",
      "is highly correlated with the following features\n",
      "--------------------------------------------------\n",
      "compactness error (0.803)\n",
      "\n",
      "*******************WORST RADIUS*******************\n",
      "is highly correlated with the following features\n",
      "--------------------------------------------------\n",
      "mean radius (0.97)\n",
      "mean perimeter (0.969)\n",
      "mean area (0.963)\n",
      "mean concave points (0.83)\n",
      "worst perimeter (0.994)\n",
      "worst area (0.984)\n",
      "\n",
      "******************WORST TEXTURE*******************\n",
      "is highly correlated with the following features\n",
      "--------------------------------------------------\n",
      "mean texture (0.912)\n",
      "\n",
      "*****************WORST PERIMETER******************\n",
      "is highly correlated with the following features\n",
      "--------------------------------------------------\n",
      "mean radius (0.965)\n",
      "mean perimeter (0.97)\n",
      "mean area (0.959)\n",
      "mean concave points (0.856)\n",
      "worst radius (0.994)\n",
      "worst area (0.978)\n",
      "worst concave points (0.816)\n",
      "\n",
      "********************WORST AREA********************\n",
      "is highly correlated with the following features\n",
      "--------------------------------------------------\n",
      "mean radius (0.941)\n",
      "mean perimeter (0.942)\n",
      "mean area (0.959)\n",
      "mean concave points (0.81)\n",
      "area error (0.811)\n",
      "worst radius (0.984)\n",
      "worst perimeter (0.978)\n",
      "\n",
      "*****************WORST SMOOTHNESS*****************\n",
      "is highly correlated with the following features\n",
      "--------------------------------------------------\n",
      "mean smoothness (0.805)\n",
      "\n",
      "****************WORST COMPACTNESS*****************\n",
      "is highly correlated with the following features\n",
      "--------------------------------------------------\n",
      "mean compactness (0.866)\n",
      "worst concavity (0.892)\n",
      "worst concave points (0.801)\n",
      "worst fractal dimension (0.81)\n",
      "\n",
      "*****************WORST CONCAVITY******************\n",
      "is highly correlated with the following features\n",
      "--------------------------------------------------\n",
      "mean compactness (0.816)\n",
      "mean concavity (0.884)\n",
      "worst compactness (0.892)\n",
      "worst concave points (0.855)\n",
      "\n",
      "***************WORST CONCAVE POINTS***************\n",
      "is highly correlated with the following features\n",
      "--------------------------------------------------\n",
      "mean compactness (0.816)\n",
      "mean concavity (0.861)\n",
      "mean concave points (0.91)\n",
      "worst perimeter (0.816)\n",
      "worst compactness (0.801)\n",
      "worst concavity (0.855)\n",
      "\n",
      "******************WORST SYMMETRY******************\n",
      "is highly correlated with the following features\n",
      "--------------------------------------------------\n",
      "\n",
      "*************WORST FRACTAL DIMENSION**************\n",
      "is highly correlated with the following features\n",
      "--------------------------------------------------\n",
      "worst compactness (0.81)\n",
      "\n"
     ]
    }
   ],
   "source": [
    "high_coeff_thld = 0.8\n",
    "\n",
    "all_coeff = np.corrcoef(X, rowvar=False)\n",
    "for i in range(len(feature_names)):\n",
    "    coeff = all_coeff[i]\n",
    "    high_coeff_idx = np.argwhere((coeff > high_coeff_thld) & (coeff < 0.999999))\n",
    "    print(feature_names[i].upper().center(50, '*'))\n",
    "    print(\"is highly correlated with the following features\")\n",
    "    print(\"-\"*50)\n",
    "    for idx in high_coeff_idx:\n",
    "        print(f\"{feature_names[idx][0]} ({np.round_(coeff[idx][0], 3)})\")\n",
    "    print()"
   ]
  },
  {
   "cell_type": "markdown",
   "id": "bd34a069-a65f-42b5-a917-0a398fe15b31",
   "metadata": {},
   "source": [
    "## Data Preparation\n",
    "\n",
    "The data can be considered already prepared. The only remaining transformations that are required are normalization and feature selection. Before doing so, the data will be shuffled and the test set will be isolated from the training and evaluation set."
   ]
  },
  {
   "cell_type": "code",
   "execution_count": 7,
   "id": "1441330e-5709-4e73-abb0-8a5083ad4253",
   "metadata": {},
   "outputs": [],
   "source": [
    "X_y = np.append(X, y.reshape(-1, 1), axis=1)\n",
    "np.random.shuffle(X_y)"
   ]
  },
  {
   "cell_type": "code",
   "execution_count": 8,
   "id": "6c9dd623-536a-4e73-bf93-75b393e4893f",
   "metadata": {},
   "outputs": [],
   "source": [
    "split_trainval_test = 0.2\n",
    "n = X_y.shape[0]\n",
    "n_test = int(n * split_trainval_test)\n",
    "X_y_test = X_y[:n_test]\n",
    "X_y_trainval = X_y[n_test:]"
   ]
  },
  {
   "cell_type": "code",
   "execution_count": 9,
   "id": "fe27d278-1a35-4367-bf7a-edcc04ff30f9",
   "metadata": {},
   "outputs": [],
   "source": [
    "X_test = X_y_test[:, :-1]\n",
    "y_test = X_y_test[:, -1]\n",
    "\n",
    "X_trainval = X_y_trainval[:, :-1]\n",
    "y_trainval = X_y_trainval[:, -1]"
   ]
  },
  {
   "cell_type": "markdown",
   "id": "6837c887-1140-45bb-a921-843831ff1824",
   "metadata": {},
   "source": [
    "The values are normalized to values between 0 and 1 per feature below."
   ]
  },
  {
   "cell_type": "code",
   "execution_count": 10,
   "id": "24be393c-9bfb-4493-bdfe-8707f55d40f5",
   "metadata": {},
   "outputs": [],
   "source": [
    "for i in range(X_trainval.shape[1]):\n",
    "    vals = X_trainval[:, i]\n",
    "    X_trainval[:, i] = (vals - np.min(vals))/np.ptp(vals)"
   ]
  },
  {
   "cell_type": "code",
   "execution_count": 11,
   "id": "176f4268-4616-40af-8d02-1ce1188f95d0",
   "metadata": {},
   "outputs": [],
   "source": [
    "rem_features = np.array(\n",
    "    ['mean radius', 'mean texture', 'mean smoothness',\n",
    "     'mean compactness', 'mean symmetry', 'mean fractal dimension',\n",
    "     'radius error', 'texture error', 'smoothness error',\n",
    "     'compactness error', 'concave points error', 'symmetry error',\n",
    "     'worst symmetry', 'worst fractal dimension'])\n",
    "# rem_features = np.array([\"mean radius\", \"mean texture\"])\n",
    "rem_features_idx = [np.where(feature_names == f)[0][0] for f in rem_features]\n",
    "\n",
    "X_trainval = X_trainval[:, rem_features_idx]"
   ]
  },
  {
   "cell_type": "code",
   "execution_count": 12,
   "id": "e0e4bfe1-8b37-4ace-84ed-b2b360e8ef79",
   "metadata": {},
   "outputs": [],
   "source": [
    "X_val = X_trainval[:n_test]\n",
    "X_train = X_trainval[n_test:]\n",
    "y_val = y_trainval[:n_test]\n",
    "y_train = y_trainval[n_test:]"
   ]
  },
  {
   "cell_type": "markdown",
   "id": "f7814e98-d5d4-482a-b3f9-35da01b39a37",
   "metadata": {},
   "source": [
    "## Modeling\n",
    "\n",
    "In this section the weights and model are initialized and then trained using batch gradient descent."
   ]
  },
  {
   "cell_type": "code",
   "execution_count": 25,
   "id": "1b9ac906-285c-4424-8216-e6f5d9ef94ce",
   "metadata": {},
   "outputs": [],
   "source": [
    "X_trainval = X_y_trainval[:, :-1]\n",
    "y_trainval = X_y_trainval[:, -1]\n",
    "\n",
    "X_trainval /= np.max(X_trainval)\n",
    "X_trainval = np.hstack((np.ones(X_trainval.shape[0]).reshape(-1, 1), X_trainval))"
   ]
  },
  {
   "cell_type": "code",
   "execution_count": 27,
   "id": "593d7988-b6ff-4dcb-9882-350e47f8e791",
   "metadata": {},
   "outputs": [],
   "source": [
    "X_val = X_trainval[:n_test]\n",
    "X_train = X_trainval[n_test:]\n",
    "y_val = y_trainval[:n_test]\n",
    "y_train = y_trainval[n_test:]"
   ]
  },
  {
   "cell_type": "code",
   "execution_count": 90,
   "id": "d0a6040f-3352-45de-93c7-9790a710083c",
   "metadata": {},
   "outputs": [],
   "source": [
    "def calc_gradient(w, x, y):\n",
    "    y_estimate = 1/(1+np.exp(-x.dot(w)))\n",
    "    error = (y - y_estimate)\n",
    "    gradient = -(1.0/len(x)) * error.dot(x)\n",
    "    return gradient\n",
    "\n",
    "def calc_y_estimate(X, w):\n",
    "    return 1/(1+np.exp(-X.dot(w)))\n",
    "\n",
    "def cost_func(y_hat, y):\n",
    "    return -1/len(y) * np.sum(y * np.log(y_hat) + (1-y) * np.log(1-y_hat))"
   ]
  },
  {
   "cell_type": "code",
   "execution_count": 132,
   "id": "944afc41-a0ba-4706-af70-667975f4c323",
   "metadata": {},
   "outputs": [],
   "source": [
    "w = np.zeros(X_train.shape[1])\n",
    "alpha = 0.1\n",
    "epsilon = 1e-3\n",
    "history = []"
   ]
  },
  {
   "cell_type": "code",
   "execution_count": 133,
   "id": "e54cd301-f368-4b4b-84d6-3bf95f7e79ae",
   "metadata": {},
   "outputs": [
    {
     "name": "stdout",
     "output_type": "stream",
     "text": [
      "Cost training iteration #10000: 0.08017201652227615\n",
      "Cost validation iteration #10000: 0.10894313232558389\n",
      "Cost training iteration #20000: 0.06022316158386271\n",
      "Cost validation iteration #20000: 0.1015922119611933\n",
      "Cost training iteration #30000: 0.05148291675899775\n",
      "Cost validation iteration #30000: 0.10057300741752151\n",
      "Convergence reached\n",
      "Final cost training: 0.04770573161669781\n",
      "Final cost validation: 0.10086326630741174\n"
     ]
    }
   ],
   "source": [
    "iterations = 1\n",
    "while True:\n",
    "    gradient = calc_gradient(w, X_train, y_train)\n",
    "    new_w = w - alpha * gradient\n",
    "    \n",
    "    if np.sum(abs(new_w - w)) < epsilon:\n",
    "        print(\"Convergence reached\")\n",
    "        break\n",
    "\n",
    "    w = new_w\n",
    "\n",
    "    cost_training = cost_func(calc_y_estimate(X_train, w), y_train)\n",
    "    cost_val = cost_func(calc_y_estimate(X_val, w), y_val)\n",
    "    \n",
    "    if iterations % 10000 == 0:\n",
    "        print(f\"Cost training iteration #{iterations}: {cost_training}\")\n",
    "        print(f\"Cost validation iteration #{iterations}: {cost_val}\")\n",
    "    iterations += 1\n",
    "    history.append((cost_training, cost_val, w))\n",
    "\n",
    "print(\"Final cost training:\", cost_func(calc_y_estimate(X_train, w), y_train))\n",
    "print(\"Final cost validation:\", cost_func(calc_y_estimate(X_val, w), y_val))"
   ]
  },
  {
   "cell_type": "code",
   "execution_count": 135,
   "id": "01c12c2d-0d5d-44bb-91b9-cb4395243ece",
   "metadata": {},
   "outputs": [
    {
     "data": {
      "image/png": "[encoded data removed]",
      "text/plain": [
       "<Figure size 432x288 with 1 Axes>"
      ]
     },
     "metadata": {
      "needs_background": "light"
     },
     "output_type": "display_data"
    }
   ],
   "source": [
    "import matplotlib.pyplot as plt\n",
    "\n",
    "cost_train_h, cost_val_h, w_h = np.array(history, dtype=object).T\n",
    "n_epochs = list(range(len(history)))\n",
    "\n",
    "plt.plot(n_epochs, cost_train_h, label=\"Cost training\")\n",
    "plt.plot(n_epochs, cost_val_h, label=\"Cost validation\")\n",
    "plt.legend()\n",
    "plt.show()"
   ]
  },
  {
   "cell_type": "code",
   "execution_count": 136,
   "id": "9e040300-de67-4157-9f3b-24f79fae5aaf",
   "metadata": {},
   "outputs": [
    {
     "name": "stdout",
     "output_type": "stream",
     "text": [
      "Iteration with the lowest cost validation: 29721\n"
     ]
    }
   ],
   "source": [
    "iteration_lowest_cost_val = np.where(cost_val_h == np.min(cost_val_h))[0][0]\n",
    "print(\"Iteration with the lowest cost validation:\", iteration_lowest_cost_val)"
   ]
  },
  {
   "cell_type": "code",
   "execution_count": 137,
   "id": "65218a19-6591-4e7a-adb2-9cb4c5857f71",
   "metadata": {},
   "outputs": [],
   "source": [
    "probabilities = calc_y_estimate(X_val, w_h[iteration_lowest_cost_val])\n",
    "predictions = np.where(probabilities >= 0.5, 1, 0)"
   ]
  },
  {
   "cell_type": "code",
   "execution_count": 148,
   "id": "513e6493-9c03-4dcc-afe0-2d24cbc883f0",
   "metadata": {},
   "outputs": [
    {
     "name": "stdout",
     "output_type": "stream",
     "text": [
      "Accuracy: 0.973\n"
     ]
    }
   ],
   "source": [
    "correctly_predicted = np.sum(np.where(predictions == y_val, 1, 0))\n",
    "accuracy = correctly_predicted / len(predictions)\n",
    "print(\"Accuracy:\", round(accuracy, 3))"
   ]
  },
  {
   "cell_type": "code",
   "execution_count": 150,
   "id": "c3276ccf-593e-4d83-94c0-5a3b8ea447a0",
   "metadata": {},
   "outputs": [
    {
     "data": {
      "image/png": "[encoded data removed]",
      "text/plain": [
       "<Figure size 432x288 with 1 Axes>"
      ]
     },
     "metadata": {
      "needs_background": "light"
     },
     "output_type": "display_data"
    }
   ],
   "source": [
    "x = np.linspace(-10, 10, X_val.shape[0])\n",
    "logit = []\n",
    "for i in x:\n",
    "    logit.append(1/(1+np.exp(-i)))\n",
    "\n",
    "plt.plot(x, sorted(probabilities))\n",
    "plt.plot(x, logit)\n",
    "plt.show()"
   ]
  }
 ],
 "metadata": {
  "kernelspec": {
   "display_name": "Python 3 (ipykernel)",
   "language": "python",
   "name": "python3"
  },
  "language_info": {
   "codemirror_mode": {
    "name": "ipython",
    "version": 3
   },
   "file_extension": ".py",
   "mimetype": "text/x-python",
   "name": "python",
   "nbconvert_exporter": "python",
   "pygments_lexer": "ipython3",
   "version": "3.10.4"
  }
 },
 "nbformat": 4,
 "nbformat_minor": 5
}
