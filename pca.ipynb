{
 "cells": [
  {
   "cell_type": "code",
   "execution_count": 1,
   "id": "764cd3a0-4a01-4d9f-96b1-ebb8f72369da",
   "metadata": {},
   "outputs": [],
   "source": [
    "import numpy as np"
   ]
  },
  {
   "cell_type": "code",
   "execution_count": 2,
   "id": "08018be2-39a7-49da-a483-41521c97d01f",
   "metadata": {},
   "outputs": [],
   "source": [
    "# Generate a dummy dataset\n",
    "X = np.random.randint(10, 50, 100).reshape(20, 5)"
   ]
  },
  {
   "cell_type": "code",
   "execution_count": 8,
   "id": "4d6b544c-9bba-41b5-923a-a5ac84a14740",
   "metadata": {},
   "outputs": [],
   "source": [
    "# mean centering the data\n",
    "X_meaned = X - np.mean(X, axis=0)"
   ]
  },
  {
   "cell_type": "code",
   "execution_count": 9,
   "id": "d52bbdfa-fb00-41f6-ac71-878e9bba74bd",
   "metadata": {},
   "outputs": [],
   "source": [
    "# calculating the covariance matrix of the mean-centered data\n",
    "cov_mat = np.cov(X_meaned, rowvar=False)"
   ]
  },
  {
   "cell_type": "code",
   "execution_count": 11,
   "id": "fefa2a09-5839-424f-9b83-8c615d16a354",
   "metadata": {},
   "outputs": [
    {
     "name": "stdout",
     "output_type": "stream",
     "text": [
      "[[165.48421053  11.83684211 -13.37368421  -6.21052632  17.57894737]\n",
      " [ 11.83684211 145.18684211  -0.18157895 -10.26315789  44.23684211]\n",
      " [-13.37368421  -0.18157895  57.60789474  -2.31578947  27.81578947]\n",
      " [ -6.21052632 -10.26315789  -2.31578947 115.36842105 -33.89473684]\n",
      " [ 17.57894737  44.23684211  27.81578947 -33.89473684 149.84210526]]\n"
     ]
    }
   ],
   "source": [
    "print(cov_mat)"
   ]
  },
  {
   "cell_type": "code",
   "execution_count": 14,
   "id": "b31ba6e4-05cb-4052-a33a-9d75b52a1dfc",
   "metadata": {},
   "outputs": [],
   "source": [
    "# calculating Eigenvalues and Eigenvectors of the covariance matrix\n",
    "eigen_values, eigen_vectors = np.linalg.eigh(cov_mat)"
   ]
  },
  {
   "cell_type": "code",
   "execution_count": 16,
   "id": "10300fd5-02d8-4bec-9e16-f190645fcc15",
   "metadata": {},
   "outputs": [
    {
     "data": {
      "text/plain": [
       "array([ 45.03473724,  94.38518686, 119.71065441, 159.61745564,\n",
       "       214.74143953])"
      ]
     },
     "execution_count": 16,
     "metadata": {},
     "output_type": "execute_result"
    }
   ],
   "source": [
    "eigen_values"
   ]
  },
  {
   "cell_type": "code",
   "execution_count": 24,
   "id": "d31951de-fe7f-4e0e-98ba-031e0f61b87a",
   "metadata": {},
   "outputs": [],
   "source": [
    "# sort the Eigenvalues in descending order\n",
    "sorted_index = np.argsort(eigen_values)[::-1]\n",
    "\n",
    "sorted_eigenvalues = eigen_values[sorted_index]\n",
    "sorted_eigenvectors = eigen_vectors[:,sorted_index]"
   ]
  },
  {
   "cell_type": "code",
   "execution_count": 25,
   "id": "03535683-0c7b-40c7-ae9a-85338c22a73f",
   "metadata": {},
   "outputs": [],
   "source": [
    "# select the first n eigenvectors, n is desired dimension\n",
    "# of our final reduced data\n",
    "\n",
    "n_components = 2\n",
    "eigenvector_subset = sorted_eigenvectors[:,0:n_components]\n",
    "X_reduced = np.dot(eigenvector_subset.T, X_meaned.T).T"
   ]
  },
  {
   "cell_type": "code",
   "execution_count": 28,
   "id": "a3f48550-1c4e-41b1-85ae-876ba95b5af1",
   "metadata": {},
   "outputs": [
    {
     "name": "stdout",
     "output_type": "stream",
     "text": [
      "[[  3.96991247  13.45809882]\n",
      " [  8.56285803 -10.44813691]\n",
      " [  1.34318879  -2.44557744]\n",
      " [ -1.82772603 -11.62612591]\n",
      " [  0.32352342 -16.58324916]\n",
      " [ -7.66046856 -23.51354092]\n",
      " [ 14.95796445  -8.87194155]\n",
      " [ -0.28191564   7.03835538]\n",
      " [  9.45872773   3.61545095]\n",
      " [ -3.6925174   16.85060393]\n",
      " [ 13.35575235  16.24356307]\n",
      " [-19.41580132   7.8170866 ]\n",
      " [  5.83874853 -12.31349181]\n",
      " [-30.46897565  -0.89208363]\n",
      " [ 23.74491625   0.63842326]\n",
      " [ -7.27076446  -7.10345627]\n",
      " [ 11.12278714  24.36479792]\n",
      " [ 19.54029825  -8.8026726 ]\n",
      " [-27.68593672   0.38277524]\n",
      " [-13.91457162  12.19112103]]\n"
     ]
    }
   ],
   "source": [
    "print(X_reduced)"
   ]
  },
  {
   "cell_type": "code",
   "execution_count": 1,
   "id": "45580731-5b80-4f04-8783-dbbb8d419880",
   "metadata": {},
   "outputs": [],
   "source": [
    "from sklearn.datasets import load_iris"
   ]
  },
  {
   "cell_type": "code",
   "execution_count": 7,
   "id": "35aea75d-cd55-47aa-a4fa-a6bcb902667c",
   "metadata": {},
   "outputs": [],
   "source": [
    "data = load_iris()\n",
    "X = data.data\n",
    "y = data.target"
   ]
  },
  {
   "cell_type": "code",
   "execution_count": 10,
   "id": "69833032-00ab-4c0f-91b4-52c4a56ebc53",
   "metadata": {},
   "outputs": [],
   "source": [
    "from sklearn.preprocessing import StandardScaler"
   ]
  },
  {
   "cell_type": "code",
   "execution_count": 14,
   "id": "f54e9003-0f09-4b11-836d-455f7fce673a",
   "metadata": {},
   "outputs": [],
   "source": [
    "scaled_X = StandardScaler().fit_transform(X.T)"
   ]
  },
  {
   "cell_type": "code",
   "execution_count": 15,
   "id": "9678b5f5-3962-4966-a4ea-52c06020a9d7",
   "metadata": {},
   "outputs": [],
   "source": [
    "from sklearn.decomposition import PCA"
   ]
  },
  {
   "cell_type": "code",
   "execution_count": 16,
   "id": "c02cc575-0479-4ecd-baf6-6340b27ee115",
   "metadata": {},
   "outputs": [],
   "source": [
    "pca = PCA()"
   ]
  },
  {
   "cell_type": "code",
   "execution_count": 18,
   "id": "e48348ec-0cc4-437e-8a4f-298059454535",
   "metadata": {},
   "outputs": [],
   "source": [
    "pca.fit(scaled_X)\n",
    "pca_data = pca.transform(scaled_X)"
   ]
  },
  {
   "cell_type": "code",
   "execution_count": 25,
   "id": "b3f02b9f-3a7d-40e7-9bba-50b7159dfb73",
   "metadata": {},
   "outputs": [],
   "source": [
    "import numpy as np\n",
    "per_var = np.round(pca.explained_variance_ratio_* 100, decimals=1)\n",
    "labels = [\"PC\" + str(x) for x in range(1, len(per_var)+1)]"
   ]
  },
  {
   "cell_type": "code",
   "execution_count": 27,
   "id": "b7ab5a22-ee95-409c-9d9a-822aec067f9e",
   "metadata": {},
   "outputs": [
    {
     "data": {
      "image/png": "[encoded data removed]",
      "text/plain": [
       "<Figure size 432x288 with 1 Axes>"
      ]
     },
     "metadata": {
      "needs_background": "light"
     },
     "output_type": "display_data"
    }
   ],
   "source": [
    "import matplotlib.pyplot as plt\n",
    "\n",
    "plt.bar(x=range(1, len(per_var)+1), height=per_var, tick_label=labels)\n",
    "plt.ylabel(\"Percentage of explained variance\")\n",
    "plt.xlabel(\"Principal Component\")\n",
    "plt.title(\"Scree Plot\")\n",
    "plt.show()"
   ]
  },
  {
   "cell_type": "code",
   "execution_count": 29,
   "id": "0a310c61-7c94-4426-9f90-f3e6493a8e37",
   "metadata": {},
   "outputs": [
    {
     "data": {
      "text/plain": [
       "(4, 4)"
      ]
     },
     "execution_count": 29,
     "metadata": {},
     "output_type": "execute_result"
    }
   ],
   "source": [
    "pca_data.shape"
   ]
  },
  {
   "cell_type": "code",
   "execution_count": 30,
   "id": "53ac15c8-e075-4d9a-a813-ffa98770128f",
   "metadata": {},
   "outputs": [
    {
     "data": {
      "text/html": [
       "<div>\n",
       "<style scoped>\n",
       "    .dataframe tbody tr th:only-of-type {\n",
       "        vertical-align: middle;\n",
       "    }\n",
       "\n",
       "    .dataframe tbody tr th {\n",
       "        vertical-align: top;\n",
       "    }\n",
       "\n",
       "    .dataframe thead th {\n",
       "        text-align: right;\n",
       "    }\n",
       "</style>\n",
       "<table border=\"1\" class=\"dataframe\">\n",
       "  <thead>\n",
       "    <tr style=\"text-align: right;\">\n",
       "      <th></th>\n",
       "      <th>PC1</th>\n",
       "      <th>PC2</th>\n",
       "      <th>PC3</th>\n",
       "      <th>PC4</th>\n",
       "    </tr>\n",
       "  </thead>\n",
       "  <tbody>\n",
       "    <tr>\n",
       "      <th>sepal length (cm)</th>\n",
       "      <td>16.159427</td>\n",
       "      <td>-1.308981</td>\n",
       "      <td>0.562507</td>\n",
       "      <td>-7.534184e-15</td>\n",
       "    </tr>\n",
       "    <tr>\n",
       "      <th>sepal width (cm)</th>\n",
       "      <td>-3.118805</td>\n",
       "      <td>-6.195034</td>\n",
       "      <td>-0.628825</td>\n",
       "      <td>3.811558e-15</td>\n",
       "    </tr>\n",
       "    <tr>\n",
       "      <th>petal length (cm)</th>\n",
       "      <td>2.372139</td>\n",
       "      <td>6.606103</td>\n",
       "      <td>-0.563896</td>\n",
       "      <td>1.952751e-15</td>\n",
       "    </tr>\n",
       "    <tr>\n",
       "      <th>petal width (cm)</th>\n",
       "      <td>-15.412762</td>\n",
       "      <td>0.897912</td>\n",
       "      <td>0.630214</td>\n",
       "      <td>2.305073e-15</td>\n",
       "    </tr>\n",
       "  </tbody>\n",
       "</table>\n",
       "</div>"
      ],
      "text/plain": [
       "                         PC1       PC2       PC3           PC4\n",
       "sepal length (cm)  16.159427 -1.308981  0.562507 -7.534184e-15\n",
       "sepal width (cm)   -3.118805 -6.195034 -0.628825  3.811558e-15\n",
       "petal length (cm)   2.372139  6.606103 -0.563896  1.952751e-15\n",
       "petal width (cm)  -15.412762  0.897912  0.630214  2.305073e-15"
      ]
     },
     "execution_count": 30,
     "metadata": {},
     "output_type": "execute_result"
    }
   ],
   "source": [
    "import pandas as pd\n",
    "\n",
    "pca_df = pd.DataFrame(pca_data, index=data.feature_names, columns=labels)\n",
    "pca_df"
   ]
  },
  {
   "cell_type": "code",
   "execution_count": 36,
   "id": "4b894fe1-3fc0-486a-9d7f-1a1dd46717a5",
   "metadata": {},
   "outputs": [
    {
     "data": {
      "image/png": "[encoded data removed]",
      "text/plain": [
       "<Figure size 432x288 with 1 Axes>"
      ]
     },
     "metadata": {
      "needs_background": "light"
     },
     "output_type": "display_data"
    }
   ],
   "source": [
    "plt.scatter(pca_df.PC1, pca_df.PC2)\n",
    "plt.title(\"PCA Graph\")\n",
    "plt.xlabel(f\"PC1 - {per_var[0]}%\")\n",
    "plt.ylabel(f\"PC2 - {per_var[1]}%\")\n",
    "plt.show()"
   ]
  },
  {
   "cell_type": "code",
   "execution_count": 42,
   "id": "43555b0a-ae62-417c-86d1-d091455a1a4e",
   "metadata": {},
   "outputs": [
    {
     "data": {
      "text/plain": [
       "64    0.088163\n",
       "57    0.088082\n",
       "79    0.088065\n",
       "93    0.087925\n",
       "65    0.087920\n",
       "        ...   \n",
       "32    0.070368\n",
       "16    0.070116\n",
       "33    0.069775\n",
       "15    0.068998\n",
       "22    0.067151\n",
       "Length: 150, dtype: float64"
      ]
     },
     "execution_count": 42,
     "metadata": {},
     "output_type": "execute_result"
    }
   ],
   "source": [
    "loading_scores = pd.Series(pca.components_[0])\n",
    "sorted_loading_scores = loading_scores.abs().sort_values(ascending=False)\n",
    "\n",
    "sorted_loading_scores"
   ]
  },
  {
   "cell_type": "code",
   "execution_count": 3,
   "id": "99ebd8c1-4916-44ef-844e-cb10b85c9f85",
   "metadata": {},
   "outputs": [
    {
     "data": {
      "text/plain": [
       "['DESCR',\n",
       " 'data',\n",
       " 'data_module',\n",
       " 'feature_names',\n",
       " 'filename',\n",
       " 'frame',\n",
       " 'target',\n",
       " 'target_names']"
      ]
     },
     "execution_count": 3,
     "metadata": {},
     "output_type": "execute_result"
    }
   ],
   "source": [
    "dir(data)"
   ]
  }
 ],
 "metadata": {
  "kernelspec": {
   "display_name": "Python 3 (ipykernel)",
   "language": "python",
   "name": "python3"
  },
  "language_info": {
   "codemirror_mode": {
    "name": "ipython",
    "version": 3
   },
   "file_extension": ".py",
   "mimetype": "text/x-python",
   "name": "python",
   "nbconvert_exporter": "python",
   "pygments_lexer": "ipython3",
   "version": "3.10.4"
  }
 },
 "nbformat": 4,
 "nbformat_minor": 5
}
