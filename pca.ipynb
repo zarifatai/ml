{
 "cells": [
  {
   "cell_type": "code",
   "execution_count": 1,
   "id": "764cd3a0-4a01-4d9f-96b1-ebb8f72369da",
   "metadata": {},
   "outputs": [],
   "source": [
    "import numpy as np"
   ]
  },
  {
   "cell_type": "code",
   "execution_count": 2,
   "id": "08018be2-39a7-49da-a483-41521c97d01f",
   "metadata": {},
   "outputs": [],
   "source": [
    "# Generate a dummy dataset\n",
    "X = np.random.randint(10, 50, 100).reshape(20, 5)"
   ]
  },
  {
   "cell_type": "code",
   "execution_count": 8,
   "id": "4d6b544c-9bba-41b5-923a-a5ac84a14740",
   "metadata": {},
   "outputs": [],
   "source": [
    "# mean centering the data\n",
    "X_meaned = X - np.mean(X, axis=0)"
   ]
  },
  {
   "cell_type": "code",
   "execution_count": 9,
   "id": "d52bbdfa-fb00-41f6-ac71-878e9bba74bd",
   "metadata": {},
   "outputs": [],
   "source": [
    "# calculating the covariance matrix of the mean-centered data\n",
    "cov_mat = np.cov(X_meaned, rowvar=False)"
   ]
  },
  {
   "cell_type": "code",
   "execution_count": 11,
   "id": "fefa2a09-5839-424f-9b83-8c615d16a354",
   "metadata": {},
   "outputs": [
    {
     "name": "stdout",
     "output_type": "stream",
     "text": [
      "[[165.48421053  11.83684211 -13.37368421  -6.21052632  17.57894737]\n",
      " [ 11.83684211 145.18684211  -0.18157895 -10.26315789  44.23684211]\n",
      " [-13.37368421  -0.18157895  57.60789474  -2.31578947  27.81578947]\n",
      " [ -6.21052632 -10.26315789  -2.31578947 115.36842105 -33.89473684]\n",
      " [ 17.57894737  44.23684211  27.81578947 -33.89473684 149.84210526]]\n"
     ]
    }
   ],
   "source": [
    "print(cov_mat)"
   ]
  },
  {
   "cell_type": "code",
   "execution_count": 14,
   "id": "b31ba6e4-05cb-4052-a33a-9d75b52a1dfc",
   "metadata": {},
   "outputs": [],
   "source": [
    "# calculating Eigenvalues and Eigenvectors of the covariance matrix\n",
    "eigen_values, eigen_vectors = np.linalg.eigh(cov_mat)"
   ]
  },
  {
   "cell_type": "code",
   "execution_count": 16,
   "id": "10300fd5-02d8-4bec-9e16-f190645fcc15",
   "metadata": {},
   "outputs": [
    {
     "data": {
      "text/plain": [
       "array([ 45.03473724,  94.38518686, 119.71065441, 159.61745564,\n",
       "       214.74143953])"
      ]
     },
     "execution_count": 16,
     "metadata": {},
     "output_type": "execute_result"
    }
   ],
   "source": [
    "eigen_values"
   ]
  },
  {
   "cell_type": "code",
   "execution_count": 24,
   "id": "d31951de-fe7f-4e0e-98ba-031e0f61b87a",
   "metadata": {},
   "outputs": [],
   "source": [
    "# sort the Eigenvalues in descending order\n",
    "sorted_index = np.argsort(eigen_values)[::-1]\n",
    "\n",
    "sorted_eigenvalues = eigen_values[sorted_index]\n",
    "sorted_eigenvectors = eigen_vectors[:,sorted_index]"
   ]
  },
  {
   "cell_type": "code",
   "execution_count": 25,
   "id": "03535683-0c7b-40c7-ae9a-85338c22a73f",
   "metadata": {},
   "outputs": [],
   "source": [
    "# select the first n eigenvectors, n is desired dimension\n",
    "# of our final reduced data\n",
    "\n",
    "n_components = 2\n",
    "eigenvector_subset = sorted_eigenvectors[:,0:n_components]\n",
    "X_reduced = np.dot(eigenvector_subset.T, X_meaned.T).T"
   ]
  },
  {
   "cell_type": "code",
   "execution_count": 28,
   "id": "a3f48550-1c4e-41b1-85ae-876ba95b5af1",
   "metadata": {},
   "outputs": [
    {
     "name": "stdout",
     "output_type": "stream",
     "text": [
      "[[  3.96991247  13.45809882]\n",
      " [  8.56285803 -10.44813691]\n",
      " [  1.34318879  -2.44557744]\n",
      " [ -1.82772603 -11.62612591]\n",
      " [  0.32352342 -16.58324916]\n",
      " [ -7.66046856 -23.51354092]\n",
      " [ 14.95796445  -8.87194155]\n",
      " [ -0.28191564   7.03835538]\n",
      " [  9.45872773   3.61545095]\n",
      " [ -3.6925174   16.85060393]\n",
      " [ 13.35575235  16.24356307]\n",
      " [-19.41580132   7.8170866 ]\n",
      " [  5.83874853 -12.31349181]\n",
      " [-30.46897565  -0.89208363]\n",
      " [ 23.74491625   0.63842326]\n",
      " [ -7.27076446  -7.10345627]\n",
      " [ 11.12278714  24.36479792]\n",
      " [ 19.54029825  -8.8026726 ]\n",
      " [-27.68593672   0.38277524]\n",
      " [-13.91457162  12.19112103]]\n"
     ]
    }
   ],
   "source": [
    "print(X_reduced)"
   ]
  }
 ],
 "metadata": {
  "kernelspec": {
   "display_name": "Python 3 (ipykernel)",
   "language": "python",
   "name": "python3"
  },
  "language_info": {
   "codemirror_mode": {
    "name": "ipython",
    "version": 3
   },
   "file_extension": ".py",
   "mimetype": "text/x-python",
   "name": "python",
   "nbconvert_exporter": "python",
   "pygments_lexer": "ipython3",
   "version": "3.10.4"
  }
 },
 "nbformat": 4,
 "nbformat_minor": 5
}
