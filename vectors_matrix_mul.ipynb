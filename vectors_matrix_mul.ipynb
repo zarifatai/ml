{
 "cells": [
  {
   "cell_type": "code",
   "execution_count": 1,
   "id": "bf33ffbd-d438-43a0-9aa6-f9a6fa753589",
   "metadata": {},
   "outputs": [],
   "source": [
    "import numpy as np"
   ]
  },
  {
   "cell_type": "code",
   "execution_count": 21,
   "id": "877718d2-8540-42d5-8526-f52e884771a7",
   "metadata": {},
   "outputs": [],
   "source": [
    "x_1 = np.array([343, 234, 949])\n",
    "x_2 = np.array([123, 98, 564])"
   ]
  },
  {
   "cell_type": "code",
   "execution_count": 32,
   "id": "0ceb1895-7ae2-4536-abb4-ce7780ec85f4",
   "metadata": {},
   "outputs": [
    {
     "data": {
      "text/plain": [
       "600357"
      ]
     },
     "execution_count": 32,
     "metadata": {},
     "output_type": "execute_result"
    }
   ],
   "source": [
    "# vector-vector multiplication\n",
    "def vector_vector_mul(v1, v2):\n",
    "    assert len(v1) == len(v2)\n",
    "    res = 0\n",
    "    for x_1, x_2 in zip(v1, v2):\n",
    "        res += x_1 * x_2\n",
    "    return res\n",
    "vector_vector_mul(x_1, x_2)"
   ]
  },
  {
   "cell_type": "code",
   "execution_count": 7,
   "id": "97a3862b-929a-4d11-92d1-4164b2996944",
   "metadata": {},
   "outputs": [
    {
     "data": {
      "text/plain": [
       "600357"
      ]
     },
     "execution_count": 7,
     "metadata": {},
     "output_type": "execute_result"
    }
   ],
   "source": [
    "np.dot(x_1, x_2)"
   ]
  },
  {
   "cell_type": "code",
   "execution_count": 36,
   "id": "04ef081e-50ed-410e-97f9-b8fe65b45b92",
   "metadata": {},
   "outputs": [],
   "source": [
    "X_1 = np.array([[9392, 915, 544], [142, 366, 876]])\n",
    "X_2 = np.array([[342, 98, 78], [23, 54, 9], [33, 51, 94]])"
   ]
  },
  {
   "cell_type": "code",
   "execution_count": 45,
   "id": "3df9f9ab-b2f2-485a-91ab-8e57fbcac9ab",
   "metadata": {},
   "outputs": [
    {
     "data": {
      "text/plain": [
       "[3951822, 965674]"
      ]
     },
     "execution_count": 45,
     "metadata": {},
     "output_type": "execute_result"
    }
   ],
   "source": [
    "# matrix-vector multiplication\n",
    "def matrix_vector_mul(M, v):\n",
    "    assert M.shape[1] == v.shape[0]\n",
    "    \n",
    "    res = []\n",
    "    for vec in M:\n",
    "        res.append(vector_vector_mul(vec, v))\n",
    "    return res \n",
    "matrix_vector_mul(X_1, x_1)"
   ]
  },
  {
   "cell_type": "code",
   "execution_count": 31,
   "id": "78a27aa9-117a-4a0f-ac39-6cb41062595d",
   "metadata": {},
   "outputs": [
    {
     "data": {
      "text/plain": [
       "array([3951822,  965674])"
      ]
     },
     "execution_count": 31,
     "metadata": {},
     "output_type": "execute_result"
    }
   ],
   "source": [
    "np.dot(X_1, x_1)"
   ]
  },
  {
   "cell_type": "code",
   "execution_count": 57,
   "id": "dd6de4a7-34b6-4952-bb78-10ffb2020f0f",
   "metadata": {},
   "outputs": [
    {
     "data": {
      "text/plain": [
       "[[3251061, 997570, 791947], [85890, 78356, 96714]]"
      ]
     },
     "execution_count": 57,
     "metadata": {},
     "output_type": "execute_result"
    }
   ],
   "source": [
    "# matrix-matrix multiplication\n",
    "def matrix_matrix_mul(M, N):\n",
    "    assert M.shape[1] == N.shape[0]\n",
    "    \n",
    "    total_res = []\n",
    "    for i in range(M.shape[0]):\n",
    "        res = [] \n",
    "        for j in range(N.shape[1]):\n",
    "            res.append(vector_vector_mul(M[i, :], N[:, j]))\n",
    "        total_res.append(res)\n",
    "    return total_res\n",
    "matrix_matrix_mul(X_1, X_2)"
   ]
  },
  {
   "cell_type": "code",
   "execution_count": 39,
   "id": "06b4a2ab-a7b8-441e-b9af-781d7263268e",
   "metadata": {},
   "outputs": [
    {
     "data": {
      "text/plain": [
       "array([[3251061,  997570,  791947],\n",
       "       [  85890,   78356,   96714]])"
      ]
     },
     "execution_count": 39,
     "metadata": {},
     "output_type": "execute_result"
    }
   ],
   "source": [
    "np.dot(X_1, X_2)"
   ]
  }
 ],
 "metadata": {
  "kernelspec": {
   "display_name": "Python 3 (ipykernel)",
   "language": "python",
   "name": "python3"
  },
  "language_info": {
   "codemirror_mode": {
    "name": "ipython",
    "version": 3
   },
   "file_extension": ".py",
   "mimetype": "text/x-python",
   "name": "python",
   "nbconvert_exporter": "python",
   "pygments_lexer": "ipython3",
   "version": "3.9.13"
  }
 },
 "nbformat": 4,
 "nbformat_minor": 5
}
